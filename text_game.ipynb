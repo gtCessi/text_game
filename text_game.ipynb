{
  "nbformat": 4,
  "nbformat_minor": 0,
  "metadata": {
    "colab": {
      "name": "text_game.ipynb",
      "provenance": [],
      "collapsed_sections": [],
      "authorship_tag": "ABX9TyO3uqepmQjSa6SMkrxBcmq5",
      "include_colab_link": true
    },
    "kernelspec": {
      "name": "python3",
      "display_name": "Python 3"
    },
    "language_info": {
      "name": "python"
    }
  },
  "cells": [
    {
      "cell_type": "markdown",
      "metadata": {
        "id": "view-in-github",
        "colab_type": "text"
      },
      "source": [
        "<a href=\"https://colab.research.google.com/github/gtCessi/text_game/blob/main/text_game.ipynb\" target=\"_parent\"><img src=\"https://colab.research.google.com/assets/colab-badge.svg\" alt=\"Open In Colab\"/></a>"
      ]
    },
    {
      "cell_type": "markdown",
      "source": [
        "Tarefas:\n",
        "melhorar logica de interacao do codigo entre defense/attack\n",
        "1 - decide se o monstro ataca ou defende\n",
        "1.1 - ou usa item (adicao posterior)\n",
        "2 - caso defende, chamar defense()\n",
        "2.1 - defense aumenta as resistencias (postura de defesa, menor vulnerabilidade)\n",
        "3 - caso ataque, seguir ordem: player primeiro, monstro segundo (mudar para atributo speed ou cooldown)\n",
        "4 - construir um modo rogue-like -> dungeons infinitas, morreu resetou\n",
        "4.1 - salvar algum tipo de progrecao: exp da corrida aumenta o nivel total da personagem -> arvore de talentos\n",
        "4.2 - interacao com atributos diferentes rpg-like(WoM)\n",
        "5 - Polir o codigo para melhorar os efeitos de timing do texto exibido "
      ],
      "metadata": {
        "id": "FZ5Kp0TNh1T9"
      }
    },
    {
      "cell_type": "code",
      "execution_count": null,
      "metadata": {
        "id": "EVqi0tO4qTsR"
      },
      "outputs": [],
      "source": [
        "import pandas as pd\n",
        "from random import randint"
      ]
    },
    {
      "cell_type": "code",
      "source": [
        "monsters = pd.read_csv('monster.csv')\n",
        "monsters"
      ],
      "metadata": {
        "colab": {
          "base_uri": "https://localhost:8080/",
          "height": 143
        },
        "id": "eZwBlzaO1Pju",
        "outputId": "639df26f-2ce0-427c-852c-63da5c15898a"
      },
      "execution_count": null,
      "outputs": [
        {
          "output_type": "execute_result",
          "data": {
            "text/html": [
              "\n",
              "  <div id=\"df-a8487ed5-cb24-428d-8147-76b89867f82a\">\n",
              "    <div class=\"colab-df-container\">\n",
              "      <div>\n",
              "<style scoped>\n",
              "    .dataframe tbody tr th:only-of-type {\n",
              "        vertical-align: middle;\n",
              "    }\n",
              "\n",
              "    .dataframe tbody tr th {\n",
              "        vertical-align: top;\n",
              "    }\n",
              "\n",
              "    .dataframe thead th {\n",
              "        text-align: right;\n",
              "    }\n",
              "</style>\n",
              "<table border=\"1\" class=\"dataframe\">\n",
              "  <thead>\n",
              "    <tr style=\"text-align: right;\">\n",
              "      <th></th>\n",
              "      <th>monster_level</th>\n",
              "      <th>monster_name</th>\n",
              "      <th>monster_hp</th>\n",
              "      <th>monster_phys_atk</th>\n",
              "      <th>monster_mag_atk</th>\n",
              "      <th>monster_phys_def</th>\n",
              "      <th>monster_mag_def</th>\n",
              "      <th>monster_exp</th>\n",
              "    </tr>\n",
              "  </thead>\n",
              "  <tbody>\n",
              "    <tr>\n",
              "      <th>0</th>\n",
              "      <td>1</td>\n",
              "      <td>poring</td>\n",
              "      <td>20</td>\n",
              "      <td>10</td>\n",
              "      <td>0</td>\n",
              "      <td>5</td>\n",
              "      <td>0</td>\n",
              "      <td>10</td>\n",
              "    </tr>\n",
              "    <tr>\n",
              "      <th>1</th>\n",
              "      <td>2</td>\n",
              "      <td>giant_rat</td>\n",
              "      <td>50</td>\n",
              "      <td>15</td>\n",
              "      <td>0</td>\n",
              "      <td>7</td>\n",
              "      <td>0</td>\n",
              "      <td>25</td>\n",
              "    </tr>\n",
              "    <tr>\n",
              "      <th>2</th>\n",
              "      <td>5</td>\n",
              "      <td>weird_fairy</td>\n",
              "      <td>50</td>\n",
              "      <td>6</td>\n",
              "      <td>18</td>\n",
              "      <td>3</td>\n",
              "      <td>10</td>\n",
              "      <td>50</td>\n",
              "    </tr>\n",
              "  </tbody>\n",
              "</table>\n",
              "</div>\n",
              "      <button class=\"colab-df-convert\" onclick=\"convertToInteractive('df-a8487ed5-cb24-428d-8147-76b89867f82a')\"\n",
              "              title=\"Convert this dataframe to an interactive table.\"\n",
              "              style=\"display:none;\">\n",
              "        \n",
              "  <svg xmlns=\"http://www.w3.org/2000/svg\" height=\"24px\"viewBox=\"0 0 24 24\"\n",
              "       width=\"24px\">\n",
              "    <path d=\"M0 0h24v24H0V0z\" fill=\"none\"/>\n",
              "    <path d=\"M18.56 5.44l.94 2.06.94-2.06 2.06-.94-2.06-.94-.94-2.06-.94 2.06-2.06.94zm-11 1L8.5 8.5l.94-2.06 2.06-.94-2.06-.94L8.5 2.5l-.94 2.06-2.06.94zm10 10l.94 2.06.94-2.06 2.06-.94-2.06-.94-.94-2.06-.94 2.06-2.06.94z\"/><path d=\"M17.41 7.96l-1.37-1.37c-.4-.4-.92-.59-1.43-.59-.52 0-1.04.2-1.43.59L10.3 9.45l-7.72 7.72c-.78.78-.78 2.05 0 2.83L4 21.41c.39.39.9.59 1.41.59.51 0 1.02-.2 1.41-.59l7.78-7.78 2.81-2.81c.8-.78.8-2.07 0-2.86zM5.41 20L4 18.59l7.72-7.72 1.47 1.35L5.41 20z\"/>\n",
              "  </svg>\n",
              "      </button>\n",
              "      \n",
              "  <style>\n",
              "    .colab-df-container {\n",
              "      display:flex;\n",
              "      flex-wrap:wrap;\n",
              "      gap: 12px;\n",
              "    }\n",
              "\n",
              "    .colab-df-convert {\n",
              "      background-color: #E8F0FE;\n",
              "      border: none;\n",
              "      border-radius: 50%;\n",
              "      cursor: pointer;\n",
              "      display: none;\n",
              "      fill: #1967D2;\n",
              "      height: 32px;\n",
              "      padding: 0 0 0 0;\n",
              "      width: 32px;\n",
              "    }\n",
              "\n",
              "    .colab-df-convert:hover {\n",
              "      background-color: #E2EBFA;\n",
              "      box-shadow: 0px 1px 2px rgba(60, 64, 67, 0.3), 0px 1px 3px 1px rgba(60, 64, 67, 0.15);\n",
              "      fill: #174EA6;\n",
              "    }\n",
              "\n",
              "    [theme=dark] .colab-df-convert {\n",
              "      background-color: #3B4455;\n",
              "      fill: #D2E3FC;\n",
              "    }\n",
              "\n",
              "    [theme=dark] .colab-df-convert:hover {\n",
              "      background-color: #434B5C;\n",
              "      box-shadow: 0px 1px 3px 1px rgba(0, 0, 0, 0.15);\n",
              "      filter: drop-shadow(0px 1px 2px rgba(0, 0, 0, 0.3));\n",
              "      fill: #FFFFFF;\n",
              "    }\n",
              "  </style>\n",
              "\n",
              "      <script>\n",
              "        const buttonEl =\n",
              "          document.querySelector('#df-a8487ed5-cb24-428d-8147-76b89867f82a button.colab-df-convert');\n",
              "        buttonEl.style.display =\n",
              "          google.colab.kernel.accessAllowed ? 'block' : 'none';\n",
              "\n",
              "        async function convertToInteractive(key) {\n",
              "          const element = document.querySelector('#df-a8487ed5-cb24-428d-8147-76b89867f82a');\n",
              "          const dataTable =\n",
              "            await google.colab.kernel.invokeFunction('convertToInteractive',\n",
              "                                                     [key], {});\n",
              "          if (!dataTable) return;\n",
              "\n",
              "          const docLinkHtml = 'Like what you see? Visit the ' +\n",
              "            '<a target=\"_blank\" href=https://colab.research.google.com/notebooks/data_table.ipynb>data table notebook</a>'\n",
              "            + ' to learn more about interactive tables.';\n",
              "          element.innerHTML = '';\n",
              "          dataTable['output_type'] = 'display_data';\n",
              "          await google.colab.output.renderOutput(dataTable, element);\n",
              "          const docLink = document.createElement('div');\n",
              "          docLink.innerHTML = docLinkHtml;\n",
              "          element.appendChild(docLink);\n",
              "        }\n",
              "      </script>\n",
              "    </div>\n",
              "  </div>\n",
              "  "
            ],
            "text/plain": [
              "   monster_level monster_name  ...  monster_mag_def  monster_exp\n",
              "0              1       poring  ...                0           10\n",
              "1              2    giant_rat  ...                0           25\n",
              "2              5  weird_fairy  ...               10           50\n",
              "\n",
              "[3 rows x 8 columns]"
            ]
          },
          "metadata": {},
          "execution_count": 2
        }
      ]
    },
    {
      "cell_type": "code",
      "source": [
        "monsters.columns[0]"
      ],
      "metadata": {
        "colab": {
          "base_uri": "https://localhost:8080/",
          "height": 35
        },
        "id": "jQgHRqeR_HNG",
        "outputId": "762cba63-e445-4ec9-cbd9-9431a1c27bcd"
      },
      "execution_count": null,
      "outputs": [
        {
          "output_type": "execute_result",
          "data": {
            "application/vnd.google.colaboratory.intrinsic+json": {
              "type": "string"
            },
            "text/plain": [
              "'monster_level'"
            ]
          },
          "metadata": {},
          "execution_count": 3
        }
      ]
    },
    {
      "cell_type": "code",
      "source": [
        "len(monsters.columns)"
      ],
      "metadata": {
        "colab": {
          "base_uri": "https://localhost:8080/"
        },
        "id": "Q3zCMUoa82up",
        "outputId": "3d44dbd8-4bc5-4a83-cfc7-c63c55f8dab8"
      },
      "execution_count": null,
      "outputs": [
        {
          "output_type": "execute_result",
          "data": {
            "text/plain": [
              "8"
            ]
          },
          "metadata": {},
          "execution_count": 4
        }
      ]
    },
    {
      "cell_type": "code",
      "source": [
        "class Combat:\n",
        "  def __init__(self, player_level, player_name, player_hp, monster_level, monster_name, monster_hp):\n",
        "    player_level = player.player_level\n",
        "    player_name = player.player_name\n",
        "    player_hp = player.player_hp\n",
        "    monster_level = monster.monster_level\n",
        "    monster_name = monster.monster_name\n",
        "    monster_hp = monster.monster_hp\n",
        "\n",
        "  def attack(self,  defender):\n",
        "    movimento_npc = randint(0, 1)\n",
        "    if movimento_npc == 1:\n",
        "      defender.defense(self)\n",
        "    print(f'{self.name} atacou {defender.name}')\n",
        "    if (self.phys_atk + self.mag_atk) > (defender.phys_def + defender.mag_def):\n",
        "      phys_dmg = self.phys_atk - defender.phys_def\n",
        "      mag_dmg = self.mag_atk - defender.mag_def\n",
        "      total_dmg = phys_dmg + mag_dmg\n",
        "      defender.health_points -= total_dmg\n",
        "      print(f'Dano total: {total_dmg}. Dano fisico: {phys_dmg}. Dano magico: {mag_dmg}')\n",
        "    else:\n",
        "      print('Dano total = 0')\n",
        "\n",
        "    if type(self) == Player: \n",
        "      if defender.health_points <= 0:\n",
        "        self.exp += defender.exp\n",
        "        self.level = self.exp // 10\n",
        "\n",
        "  def defense(self, attacker):\n",
        "    print(f'{self.name} se defendeu contra {attacker.name}')\n",
        "    if (self.phys_def + self.mag_def) > (attacker.phys_atk + attacker.mag_atk):\n",
        "      print('Dano total = 0')\n",
        "    else:\n",
        "      phys_dmg = attacker.phys_atk - (self.phys_def * 1.5)\n",
        "      mag_dmg = attacker.mag_atk - (self.mag_def * 1.5)\n",
        "      total_dmg = phys_dmg + mag_dmg\n",
        "      if total_dmg <= 0: total_dmg = 0\n",
        "      self.health_points -= total_dmg\n",
        "\n",
        "      print(f'Dano total: {total_dmg}. Dano fisico: {phys_dmg}. Dano magico: {mag_dmg}')\n",
        "\n",
        "  def flee(self):\n",
        "    pass\n",
        "\n",
        "  def inventory(self):\n",
        "    pass"
      ],
      "metadata": {
        "id": "VS-mauP8WmHP"
      },
      "execution_count": null,
      "outputs": []
    },
    {
      "cell_type": "code",
      "source": [
        "class Monster(Combat):\n",
        "  def __init__(self, level=0, name='', health_points=0, phys_atk=0, mag_atk=0,\n",
        "               phys_def=0, mag_def=0, exp=0):\n",
        "    self.level = level\n",
        "    self.name = name\n",
        "    self.health_points = health_points\n",
        "    self.phys_atk = phys_atk\n",
        "    self.mag_atk = mag_atk\n",
        "    self.phys_def = phys_def\n",
        "    self.mag_def = mag_def\n",
        "    self.exp = exp"
      ],
      "metadata": {
        "id": "l0kt6fQPymHj"
      },
      "execution_count": null,
      "outputs": []
    },
    {
      "cell_type": "code",
      "source": [
        "# status base do jogador/classe:\n",
        "# humano -> hp=40, patk=10, matk=0, pdef=10, mdef=0\n",
        "# niveis -> 1: 0exp, 2:20exp, 3:\n",
        "class Player(Combat):\n",
        "  def __init__(self, level=0, name='', health_points=0, phys_atk=0, mag_atk=0,\n",
        "               phys_def=0, mag_def=0, exp=0):\n",
        "    self.level = level\n",
        "    self.name = name\n",
        "    self.health_points = health_points\n",
        "    self.phys_atk = phys_atk\n",
        "    self.mag_atk = mag_atk\n",
        "    self.phys_def = phys_def\n",
        "    self.mag_def = mag_def\n",
        "    self.exp = exp\n",
        "\n",
        "  def death(self):\n",
        "    print(f'Morreu')\n",
        "    print(f'Nome: {self.name}, Nivel: {self.level}, Exp: {self.exp}')\n",
        "\n",
        "  def inventory(self):\n",
        "    pass"
      ],
      "metadata": {
        "id": "mIqr6U6M8Eho"
      },
      "execution_count": null,
      "outputs": []
    },
    {
      "cell_type": "code",
      "source": [
        "pierrot = Player(0, 'Pierrot', 50, 20, 15, 16, 4, 0)\n",
        "poporing = Monster(2, 'Poporing', 50, 0, 0, 0, 10, 25)\n",
        "pleti = Player(3, 'Pleti', 67, 12, 54, 23, 4, 5)\n",
        "\n",
        "poro = Monster(1, 'Poro', 100, 0, 0, 0, 0, 10)"
      ],
      "metadata": {
        "id": "knU5rA_PNn-M"
      },
      "execution_count": null,
      "outputs": []
    },
    {
      "cell_type": "code",
      "source": [
        "type(pierrot), type(poro)"
      ],
      "metadata": {
        "colab": {
          "base_uri": "https://localhost:8080/"
        },
        "id": "DFQetUZncD2P",
        "outputId": "053ff817-902d-4bde-9a15-1f4ad6a53843"
      },
      "execution_count": null,
      "outputs": [
        {
          "output_type": "execute_result",
          "data": {
            "text/plain": [
              "(__main__.Player, __main__.Monster)"
            ]
          },
          "metadata": {},
          "execution_count": 9
        }
      ]
    },
    {
      "cell_type": "code",
      "source": [
        "pierrot.attack(poro)"
      ],
      "metadata": {
        "colab": {
          "base_uri": "https://localhost:8080/"
        },
        "id": "YH79pJZJOrDT",
        "outputId": "2e46fa2f-25da-453a-b6da-208dc135e01d"
      },
      "execution_count": null,
      "outputs": [
        {
          "output_type": "stream",
          "name": "stdout",
          "text": [
            "Poro se defendeu contra Pierrot\n",
            "Dano total: 35.0. Dano fisico: 20.0. Dano magico: 15.0\n",
            "Pierrot atacou Poro\n",
            "Dano total: 35. Dano fisico: 20. Dano magico: 15\n"
          ]
        }
      ]
    },
    {
      "cell_type": "code",
      "source": [
        "pleti.attack(pierrot)"
      ],
      "metadata": {
        "colab": {
          "base_uri": "https://localhost:8080/"
        },
        "id": "eIlyc4lAfjkL",
        "outputId": "43478dd2-334d-47e0-a390-f73d0b94e388"
      },
      "execution_count": null,
      "outputs": [
        {
          "output_type": "stream",
          "name": "stdout",
          "text": [
            "Pleti atacou Pierrot\n",
            "Dano total: 46. Dano fisico: -4. Dano magico: 50\n"
          ]
        }
      ]
    },
    {
      "cell_type": "code",
      "source": [
        "pleti.defense(pierrot)"
      ],
      "metadata": {
        "colab": {
          "base_uri": "https://localhost:8080/"
        },
        "id": "E_sQwL56flgZ",
        "outputId": "c9285d8d-4951-495b-9562-58a39f13d1ed"
      },
      "execution_count": null,
      "outputs": [
        {
          "output_type": "stream",
          "name": "stdout",
          "text": [
            "Pleti se defendeu contra Pierrot\n",
            "Dano total: -5.5. Dano fisico: -14.5. Dano magico: 9.0\n"
          ]
        }
      ]
    },
    {
      "cell_type": "code",
      "source": [
        "pierrot.defense(poro)"
      ],
      "metadata": {
        "colab": {
          "base_uri": "https://localhost:8080/"
        },
        "id": "NlJ-3G7cfZTk",
        "outputId": "d70acd49-703a-4f47-f932-69cbd8bc9658"
      },
      "execution_count": null,
      "outputs": [
        {
          "output_type": "stream",
          "name": "stdout",
          "text": [
            "Pierrot se defendeu contra Poro\n",
            "Dano total = 0\n"
          ]
        }
      ]
    },
    {
      "cell_type": "code",
      "source": [
        "poro.attack(pierrot)"
      ],
      "metadata": {
        "colab": {
          "base_uri": "https://localhost:8080/"
        },
        "id": "6iHPTYrIVXpT",
        "outputId": "31479f76-eae8-4908-8e49-e3e1d3d0732a"
      },
      "execution_count": null,
      "outputs": [
        {
          "output_type": "stream",
          "name": "stdout",
          "text": [
            "Poro atacou Pierrot\n",
            "Dano total = 0\n"
          ]
        }
      ]
    },
    {
      "cell_type": "code",
      "source": [
        ""
      ],
      "metadata": {
        "id": "5TUI34spQrkq"
      },
      "execution_count": null,
      "outputs": []
    }
  ]
}